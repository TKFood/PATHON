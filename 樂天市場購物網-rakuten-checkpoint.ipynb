{
 "cells": [
  {
   "cell_type": "code",
   "execution_count": 1,
   "metadata": {},
   "outputs": [
    {
     "name": "stdout",
     "output_type": "stream",
     "text": [
      "樂天市場購物網\n",
      "頁次-1\n",
      "商品:老楊 鹹蛋黃餅 黑芝麻餅 黑胡椒蛋黃餅 紫心地瓜餅 芋頭餅 好運來福袋大包裝  ,單價:109  ,賣家:糖果王 \n",
      "商品:【MIT台灣味】老楊方塊酥 - 黑芝麻 /  鹹蛋黃 100g  ,單價:59  ,賣家:瘋食堂 \n",
      "商品:【老楊】田園-咖啡方塊酥(120g)  ,單價:69  ,賣家:特色台灣 \n",
      "商品:【老楊】田園-麥纖方塊酥(120g)  ,單價:69  ,賣家:特色台灣 \n",
      "商品:【老楊】田園-茶梅方塊酥(120g)  ,單價:69  ,賣家:特色台灣 \n",
      "商品:【老楊】小方盒-海苔方塊酥(144g)  ,單價:75  ,賣家:特色台灣 \n",
      "商品:【老楊】田園-起司方塊酥(120g)  ,單價:69  ,賣家:特色台灣 \n",
      "商品:【老楊】小方盒-地瓜方塊酥(144g)  ,單價:75  ,賣家:特色台灣 \n",
      "商品:老楊黑芝麻餅  ,單價:120  ,賣家:勝義行 \n",
      "商品:老楊鹹蛋黃餅  ,單價:120  ,賣家:勝義行 \n",
      "商品:【老楊】立方罐-麥纖方塊酥(原味)(520g)  ,單價:220  ,賣家:特色台灣 \n",
      "商品:【老楊】立方罐-杏仁方塊酥(520g)  ,單價:220  ,賣家:特色台灣 \n",
      "商品:【老楊】田園-杏仁果方塊酥(120g)  ,單價:69  ,賣家:特色台灣 \n",
      "商品:【老楊】立方罐-芝麻鹹酥方塊酥(520g)  ,單價:220  ,賣家:特色台灣 \n",
      "商品:【老楊】立方罐-黑糖方塊酥(520g)  ,單價:220  ,賣家:特色台灣 \n",
      "商品:【老楊】立方罐-羅勒方塊酥(520g)  ,單價:220  ,賣家:特色台灣 \n",
      "商品:【老楊】田園-芝麻鹹酥方塊酥(120g)  ,單價:69  ,賣家:特色台灣 \n",
      "商品:【老楊】小方盒-杏仁果方塊酥(144g)  ,單價:75  ,賣家:特色台灣 \n",
      "商品:【老楊】遊台灣-香蔥方塊酥(180g)  ,單價:69  ,賣家:特色台灣 \n",
      "商品:【老楊】遊台灣-海苔方塊酥(180g)  ,單價:69  ,賣家:特色台灣 \n",
      "頁次-2\n",
      "商品:【老楊】小方盒-芝麻鹹酥方塊酥(144g)  ,單價:75  ,賣家:特色台灣 \n",
      "商品:【老楊】立方罐-紫心地瓜方塊酥(520g)  ,單價:220  ,賣家:特色台灣 \n",
      "商品:【老楊】立方罐-可可方塊酥(520g)  ,單價:220  ,賣家:特色台灣 \n",
      "商品:【老楊】遊台灣-雞蛋方塊酥(180g)  ,單價:69  ,賣家:特色台灣 \n",
      "商品:【老楊】立方罐-椰香方塊酥(520g)  ,單價:220  ,賣家:特色台灣 \n",
      "商品:【老楊】遊台灣-奶油方塊酥(180g)  ,單價:69  ,賣家:特色台灣 \n",
      "商品:【豆嫂】台灣零食 老楊鹹蛋黃餅  ,單價:130  ,賣家:豆嫂的零食雜貨店 \n",
      "商品:【0216零食會社】老楊_鹹蛋黃餅(綠豆蒜口味)230g_23入(蛋素)  ,單價:115  ,賣家:0216零食會社 \n",
      "商品:【0216零食會社】老楊_芋頭餅230g_23入  ,單價:115  ,賣家:0216零食會社 \n",
      "商品:【老楊】立方罐方塊酥-4罐組(黑糖、椰香、可可)  ,單價:549  ,賣家:特色台灣 \n",
      "商品:【0216零食會社】老楊_紫心地瓜蛋黃餅230g_23入  ,單價:115  ,賣家:0216零食會社 \n",
      "商品:【0216零食會社】老楊_黑芝麻餅230g_23入  ,單價:115  ,賣家:0216零食會社 \n",
      "商品:【書寶二手書T1／一般小說_GLG】老楊和他的女人_履彊  ,單價:129  ,賣家:書寶二手書店 \n",
      "商品:【0216零食會社】老楊_鹹蛋黃餅(黑胡椒口味)230g_23入  ,單價:115  ,賣家:0216零食會社 \n",
      "商品:台灣在地美食 老楊方塊酥 鹹蛋黃餅/黑芝麻餅/黑胡椒鹹蛋黃餅 [TW045]  ,單價:120  ,賣家:果子漾 \n",
      "商品: 蜻蜓景德鎮老楊家窯全手工青花茶杯陶瓷茶杯子功夫茶具主人杯單杯  ,單價:3,494  ,賣家:貓貓愛買城 \n",
      "商品:(台灣) 莊家 鹹蛋黃方塊酥 1包 270公克 特價 72元【4711018058803 】  ,單價:72  ,賣家:樂天三味食品 \n",
      "FINISH\n"
     ]
    }
   ],
   "source": [
    "import requests as rq\n",
    "import html5lib\n",
    "from urllib.request import urlopen\n",
    "from bs4 import BeautifulSoup \n",
    "import re\n",
    "\n",
    "YAHOObid={}\n",
    "stringhttp=\"h\"\n",
    "print(\"樂天市場購物網\")\n",
    "\n",
    "rakuten={}\n",
    "\n",
    "for pp in range(1,3):\n",
    "    url = \"https://www.rakuten.com.tw/search/%E8%80%81%E6%A5%8A/?p=\"+str(pp)+\"&l-id=tw_pagen_\"+str(pp)\n",
    "    response = rq.get(url) # 用 requests 的 get 方法把網頁抓下來\n",
    "    html_doc = response.text # text 屬性就是 html 檔案\n",
    "    soup = BeautifulSoup(response.text, \"lxml\") # 指定 lxml 作為解析器\n",
    "    \n",
    "    page=\"頁次-\"+str(pp)\n",
    "    print(page)\n",
    "\n",
    "    for div in soup.findAll('div',{\"class\":\"b-mod-item-vertical products-grid-section\"}):\n",
    "        for a in div.findAll('a',{\"class\":\"product-name\"}):\n",
    "            rakuten['name']='商品:'+a.text+' '\n",
    "            print(rakuten['name'], end='')\n",
    "        for price in div.findAll('span',{\"class\":\"b-text-prime\"}):\n",
    "            rakuten['price']=' ,單價:'+price.text+' '\n",
    "            print(rakuten['price'], end='')          \n",
    "        for store in div.findAll('a',{\"class\":\"product-shop\"}):    \n",
    "            rakuten['store']=' ,賣家:'+store.text+' '\n",
    "            print(rakuten['store'])\n",
    "\n",
    "print(\"FINISH\")"
   ]
  },
  {
   "cell_type": "code",
   "execution_count": 35,
   "metadata": {},
   "outputs": [
    {
     "name": "stdout",
     "output_type": "stream",
     "text": [
      "纅天\n",
      "頁次-1\n",
      "頁次-2\n",
      "頁次-3\n",
      "頁次-4\n",
      "FINISH\n"
     ]
    }
   ],
   "source": [
    "       \n",
    "\n",
    "print(\"FINISH\")"
   ]
  },
  {
   "cell_type": "code",
   "execution_count": null,
   "metadata": {
    "collapsed": true
   },
   "outputs": [],
   "source": []
  }
 ],
 "metadata": {
  "kernelspec": {
   "display_name": "Python 3",
   "language": "python",
   "name": "python3"
  },
  "language_info": {
   "codemirror_mode": {
    "name": "ipython",
    "version": 3
   },
   "file_extension": ".py",
   "mimetype": "text/x-python",
   "name": "python",
   "nbconvert_exporter": "python",
   "pygments_lexer": "ipython3",
   "version": "3.6.1"
  }
 },
 "nbformat": 4,
 "nbformat_minor": 2
}
