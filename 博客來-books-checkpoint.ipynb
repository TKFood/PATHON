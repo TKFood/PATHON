{
 "cells": [
  {
   "cell_type": "code",
   "execution_count": 1,
   "metadata": {},
   "outputs": [
    {
     "name": "stdout",
     "output_type": "stream",
     "text": [
      "博客來\n",
      "頁次-1\n",
      "商品:【老楊】好運來福袋-鹹蛋黃餅,單價:129\n",
      "商品:【老楊】好運來福袋-紫心地瓜餅,單價:133\n",
      "商品:【老楊】立方罐方塊酥-麥纖(原味),單價:159\n",
      "商品:【老楊】立方罐方塊酥-紫心地瓜,單價:159\n",
      "商品:【老楊】立方罐方塊酥-芝麻鹹酥,單價:159\n",
      "商品:【老楊】三合一方塊酥(麥纖、杏仁、黑糖),單價:115\n",
      "商品:【老楊】方塊酥-小方盒系列(海苔口味),單價:57\n",
      "商品:【老楊】立方罐方塊酥-黑糖,單價:159\n",
      "商品:【老楊】方塊酥-小方盒系列(杏仁果),單價:57\n",
      "商品:【老楊】立方罐方塊酥-可可,單價:159\n",
      "商品:【老楊】方塊酥-小方盒系列(地瓜口味),單價:57\n",
      "商品:【老楊】立方罐方塊酥-杏仁,單價:159\n",
      "商品:【老楊】好運來福袋-黑胡椒鹹蛋黃餅,單價:139\n",
      "商品:【老楊】好運來福袋-綠豆蒜鹹蛋黃餅,單價:139\n",
      "商品:【老楊】好運來福袋-芋頭餅,單價:139\n",
      "商品:【老楊】好運來福袋-榴槤餅,單價:139\n",
      "商品:【老楊】好運來福袋-黑芝麻餅,單價:129\n",
      "商品:【老楊】鹹蛋黄餅,單價:60\n",
      "商品:【老楊】景點系列-麥纖方塊酥,單價:120\n",
      "商品:【老楊】景點系列-黑胡椒方塊酥,單價:120\n",
      "頁次-2\n",
      "商品:【老楊】景點系列-紅茶方塊酥,單價:120\n",
      "商品:【老楊】簡單食酥系列-大薏仁,單價:128\n",
      "商品:【老楊】簡單食酥系列-燕麥,單價:128\n",
      "商品:【老楊】方塊酥-小方盒系列(芝麻鹹酥口味),單價:60\n",
      "商品:【老楊】典藏巧克力方塊酥,單價:168\n",
      "商品:【老楊】立方罐方塊酥-椰香,單價:165\n",
      "商品:【老楊】立方罐方塊酥-蘿勒,單價:165\n",
      "FINISH\n"
     ]
    }
   ],
   "source": [
    "import requests as rq\n",
    "import html5lib\n",
    "from urllib.request import urlopen\n",
    "from bs4 import BeautifulSoup \n",
    "import re\n",
    "\n",
    "books={}\n",
    "print(\"博客來\")\n",
    "\n",
    "for pp in range(1,3):\n",
    "    \n",
    "    page=\"頁次-\"+str(pp)\n",
    "    print(page)\n",
    "    \n",
    "    url = \"http://search.books.com.tw/search/query/cat/5/key/%E8%80%81%E6%A5%8A/qsub/K08/sort/1/page/\"+str(pp)+\"/v/0/\" \n",
    "    response = rq.get(url) # 用 requests 的 get 方法把網頁抓下來\n",
    "    html_doc = response.text # text 屬性就是 html 檔案\n",
    "    soup = BeautifulSoup(response.text, \"lxml\") # 指定 lxml 作為解析器\n",
    "\n",
    "    for li in soup.findAll('li',{\"class\":\"item\"}):\n",
    "        for h3 in li.findAll('h3'):\n",
    "            for a in h3.findAll('a'):\n",
    "                books['商品']='商品:'+a['title']+' '\n",
    "                print(books['商品'].replace(\" \",\"\").replace(\"\\n\",\"\"), end='')\n",
    "        for span in li.findAll('span',{\"class\":\"price\"}):\n",
    "            for b in span.findAll('b'):\n",
    "                books['單價']=' ,單價:'+b.text.replace(\" \",\"\").replace(\"\\n\",\"\")+' '\n",
    "                print(books['單價'].replace(\" \",\"\").replace(\"\\n\",\"\"))\n",
    "\n",
    "    \n",
    "print(\"FINISH\")"
   ]
  },
  {
   "cell_type": "code",
   "execution_count": null,
   "metadata": {
    "collapsed": true
   },
   "outputs": [],
   "source": []
  }
 ],
 "metadata": {
  "kernelspec": {
   "display_name": "Python 3",
   "language": "python",
   "name": "python3"
  },
  "language_info": {
   "codemirror_mode": {
    "name": "ipython",
    "version": 3
   },
   "file_extension": ".py",
   "mimetype": "text/x-python",
   "name": "python",
   "nbconvert_exporter": "python",
   "pygments_lexer": "ipython3",
   "version": "3.6.1"
  }
 },
 "nbformat": 4,
 "nbformat_minor": 2
}
