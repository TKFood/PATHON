{
 "cells": [
  {
   "cell_type": "code",
   "execution_count": 1,
   "metadata": {},
   "outputs": [
    {
     "name": "stdout",
     "output_type": "stream",
     "text": [
      "ibon mart線上購物\n",
      "商品: 商品:[老楊] 鹹蛋黃餅(230g) 商品:  ,單價:$135 \n",
      "商品: 商品:【老楊】遊台灣-雞蛋方塊酥(180g)(任) 商品:  ,單價:$69 \n",
      "商品: 商品:【老楊】遊台灣-海苔方塊酥(180g)(任) 商品:  ,單價:$69 \n",
      "商品: 商品:[老楊] 麥纖方塊酥520g(全素) 商品:  ,單價:$159 \n",
      "商品: 商品:【老楊】小方盒-杏仁果方塊酥(144g) (任) 商品:  ,單價:$75 \n",
      "商品: 商品:[老楊] 方塊酥禮盒(麥纖+芝麻) 商品:  ,單價:$320 \n",
      "FINISH\n"
     ]
    }
   ],
   "source": [
    "import requests as rq\n",
    "import html5lib\n",
    "from urllib.request import urlopen\n",
    "from bs4 import BeautifulSoup \n",
    "import re\n",
    "\n",
    "ibon={}\n",
    "print(\"ibon mart線上購物\")\n",
    "\n",
    "url = \"https://mart.ibon.com.tw/mart/rui009.faces?ladosidg=1_8&qs=%E8%80%81%E6%A5%8A\" \n",
    "response = rq.get(url) # 用 requests 的 get 方法把網頁抓下來\n",
    "html_doc = response.text # text 屬性就是 html 檔案\n",
    "soup = BeautifulSoup(response.text, \"lxml\") # 指定 lxml 作為解析器\n",
    "\n",
    "for div in soup.findAll('div',{\"class\":\"prodM\"}):    \n",
    "    for a in div.findAll('a'):\n",
    "        ibon['商品']='商品:'+a.text+' '\n",
    "        print(ibon['商品'], end='')\n",
    "    for b in div.findAll('b',{\"class\":\"red\"}):\n",
    "        ibon['單價']=' ,單價:'+b.text+' '\n",
    "        print(ibon['單價'])\n",
    "    \n",
    "    \n",
    "print(\"FINISH\")"
   ]
  },
  {
   "cell_type": "code",
   "execution_count": null,
   "metadata": {
    "collapsed": true
   },
   "outputs": [],
   "source": []
  }
 ],
 "metadata": {
  "kernelspec": {
   "display_name": "Python 3",
   "language": "python",
   "name": "python3"
  },
  "language_info": {
   "codemirror_mode": {
    "name": "ipython",
    "version": 3
   },
   "file_extension": ".py",
   "mimetype": "text/x-python",
   "name": "python",
   "nbconvert_exporter": "python",
   "pygments_lexer": "ipython3",
   "version": "3.6.1"
  }
 },
 "nbformat": 4,
 "nbformat_minor": 2
}
