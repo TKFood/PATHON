{
 "cells": [
  {
   "cell_type": "code",
   "execution_count": 41,
   "metadata": {},
   "outputs": [
    {
     "name": "stdout",
     "output_type": "stream",
     "text": [
      "東森\n",
      "商品:老楊鹹蛋黃餅230g/袋X3團購美食台灣名產,單價:優惠價$396\n",
      "商品:老楊鹹蛋黃餅230g/袋X3團購美食台灣名產,單價:優惠價$396\n",
      "商品:老楊鹹蛋黃餅(100g)*12盒,單價:優惠價$634\n",
      "商品:老楊鹹蛋黃餅(100g)*12盒,單價:優惠價$634\n",
      "商品:老楊好運來福袋(230g*6袋),單價:優惠價$669\n",
      "商品:老楊好運來福袋(230g*6袋),單價:優惠價$669\n",
      "商品:老楊立方罐方塊酥(520g*6罐),單價:優惠價$845\n",
      "商品:老楊立方罐方塊酥(520g*6罐),單價:優惠價$845\n",
      "商品:【華膳空廚】阿里山方塊酥(400g±10%/盒)x3盒組,單價:優惠價$1,276\n",
      "商品:【華膳空廚】阿里山方塊酥(400g±10%/盒)x3盒組,單價:優惠價$1,276\n",
      "商品:【華膳空廚】阿里山方塊酥(400g±10%/盒)x2盒組,單價:優惠價$1,144\n",
      "商品:【華膳空廚】阿里山方塊酥(400g±10%/盒)x2盒組,單價:優惠價$1,144\n",
      "FINISH\n"
     ]
    }
   ],
   "source": [
    "from selenium import webdriver\n",
    "from bs4 import BeautifulSoup #导入包\n",
    "\n",
    "etmail={}\n",
    "\n",
    "url = \"http://www.etmall.com.tw/Pages/AllSearchFormResult.aspx?SearchKeyword=%E8%80%81%E6%A5%8A&CategoryID=\" \n",
    "\n",
    "driver=webdriver.Chrome()  #调用本地的火狐浏览器，Chrom 甚至 Ie 也可以的\n",
    "driver.get(url) #请求页面，会打开一个浏览器窗口\n",
    "html_text=driver.page_source\n",
    "driver.quit()\n",
    "#print (html_text)\n",
    "soup=BeautifulSoup(html_text, \"lxml\")\n",
    "\n",
    "print(\"ETMall東森購物網\")\n",
    "\n",
    "for div in soup.find_all('div',{\"class\":\"searchResultContent clearfix\"}): \n",
    "    for divdetail in div.find_all('div'): \n",
    "        for divGOOD in divdetail.find_all(\"div\",{\"class\":\"GOOD-NM\"}): \n",
    "            etmail['商品']='商品:'+divGOOD.text.replace(\" \",\"\").replace(\"\\n\",\"\")\n",
    "            print(etmail['商品'], end='')\n",
    "        for divGOODPRC in divdetail.find_all(\"div\",{\"class\":\"GOOD-PRC\"}): \n",
    "            etmail['單價']=',單價:'+divGOODPRC.text.replace(\" \",\"\").replace(\"\\n\",\"\")\n",
    "            print(etmail['單價'])\n",
    "\n",
    "print(\"FINISH\")"
   ]
  },
  {
   "cell_type": "code",
   "execution_count": null,
   "metadata": {
    "collapsed": true
   },
   "outputs": [],
   "source": []
  }
 ],
 "metadata": {
  "kernelspec": {
   "display_name": "Python 3",
   "language": "python",
   "name": "python3"
  },
  "language_info": {
   "codemirror_mode": {
    "name": "ipython",
    "version": 3
   },
   "file_extension": ".py",
   "mimetype": "text/x-python",
   "name": "python",
   "nbconvert_exporter": "python",
   "pygments_lexer": "ipython3",
   "version": "3.6.1"
  }
 },
 "nbformat": 4,
 "nbformat_minor": 2
}
