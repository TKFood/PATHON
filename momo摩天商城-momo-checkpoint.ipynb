{
 "cells": [
  {
   "cell_type": "code",
   "execution_count": 10,
   "metadata": {},
   "outputs": [
    {
     "name": "stdout",
     "output_type": "stream",
     "text": [
      "momo摩天商城\n",
      "商品:年節送禮 伴手禮 老楊 好運來 鹹蛋黃餅230g/包 單價:$99 \n",
      "商品:老楊 紫心地瓜餅/芋頭餅/鹹蛋黃餅/黑芝麻餅 230g/袋【櫻桃飾品】 【25202】 單價:$109 \n",
      "商品:[大買家]老楊黑糖方塊酥(450g/罐) 單價:$66 \n",
      "商品:[大買家]老楊麥纖方塊酥(450g/罐) 單價:$66 \n",
      "商品:[大買家]老楊芝麻鹹酥方塊酥(450公克/罐) 單價:$71 \n",
      "商品:老楊 鹹蛋黃餅(100g)【棉花糖】 單價:$59 \n",
      "商品:老楊 立方罐方塊酥-麥纖(原味)(520g/罐)【棉花糖】 單價:$180 \n",
      "商品:老楊 立方罐方塊酥-黑糖(520g/罐)【棉花糖】 單價:$180 \n",
      "商品:[大買家]老楊原味麥纖方塊酥桶(540g/桶) 單價:$103 \n",
      "商品:[大買家]老楊綠豆蒜鹹蛋黃餅(100公克) 單價:$53 \n",
      "商品:[大買家]老楊黑胡椒鹹蛋黃餅(100公克) 單價:$53 \n",
      "商品:老楊 好運來福袋-鹹蛋黃餅(230g/袋)【棉花糖】 單價:$99 \n",
      "商品:老楊 立方罐方塊酥-可可(520g/罐)【棉花糖】 單價:$180 \n",
      "商品:老楊 立方罐方塊酥-芝麻鹹酥(520g/罐)【棉花糖】 單價:$180 \n",
      "商品:【老楊】立方罐方塊酥-4罐組(黑糖、椰香、可可) 單價:$549 \n",
      "商品:【老楊】立方罐-紫心地瓜方塊酥(520g) 單價:$220 \n",
      "商品:老楊和他的女人 單價:$205 \n",
      "商品:老楊 黑胡椒鹹蛋黃/香酥芋頭/紫心地瓜 方塊酥 370g/罐【櫻桃飾品】【25662】 單價:$88 \n",
      "商品:蘋果甜心漾 台灣在地美食 老楊方塊酥 鹹蛋黃餅/黑芝麻餅/黑胡椒鹹蛋黃餅 [TW045] 單價:$120 \n",
      "商品:[大買家]老楊鹹蛋黃餅(100g) 單價:$50 \n",
      "商品:[大買家]老楊三合一方塊酥(540g/桶) 單價:$103 \n",
      "商品:[大買家]老楊黑芝麻餅(100g) 單價:$53 \n",
      "商品:冰心玉壺和田玉古玉老玉收藏清代老楊柳凈瓶觀音玉牌子玉掛件玉吊墜玉佩 單價:$18,720 \n",
      "商品:蜻蜓景德鎮老楊家窯全手工青花茶杯陶瓷茶杯子功夫茶具主人杯單杯 單價:$3,494 \n",
      "商品:【豆嫂】台灣零食 老楊鹹蛋黃餅 單價:$130 \n",
      "商品:【老楊】鹹蛋黃100G 單價:$60 \n",
      "商品:【日本 Nursery】柚子卸妝潔面凝露 單價:560 \n",
      "商品:【JINLISING】J1 真皮皮革保護膜 250ML(附贈皮革海綿及萬用防塵布) 單價:489 \n",
      "商品:【amc herbaceous】全能修護霜 30ml 單價:750 \n",
      "商品:【梅丹本舖】蛋油卵磷脂軟膠67g 單價:折扣價 \n",
      "單價:1242 \n",
      "商品:【日本 Twinbird】手持 直立 兩用 吸塵器 TC-5121 贈可愛卡通收納線扣(免運費) 單價:950 \n",
      "商品:【QSHION】BABY-Q嬰幼兒透氣枕(透氣可水洗枕頭) 單價:980 \n",
      "商品:巴克球 5MM 216顆 (顏色：鎳色) 磁珠 磁球 益智/玩具 魔力/磁球/魔方 魔術/道具(5mm巴克球) 單價:折扣價 \n",
      "單價:264 \n",
      "商品:【KOMI】維多利亞條紋繡花棉襯衫洋裝 單價:折扣價 \n",
      "單價:399 \n",
      "商品:【華航玩具】迪士尼正版授權│恐龍當家The Good Dinosaur - 拉琪23cm 單價:399 \n",
      "商品:【 iphone7 Plus HTC也能用】NCC認證 藍芽自拍桿A6補光燈自拍杆 美顏神器 自拍神器 自拍棒 補光燈(藍芽自拍桿) 單價:折扣價 \n",
      "單價:336 \n",
      "FINISH\n"
     ]
    }
   ],
   "source": [
    "import requests as rq\n",
    "import html5lib\n",
    "from urllib.request import urlopen\n",
    "from bs4 import BeautifulSoup \n",
    "import re\n",
    "from time import sleep\n",
    "from selenium import webdriver\n",
    "\n",
    "momo={}\n",
    "\n",
    "print(\"momo摩天商城\")\n",
    "\n",
    "url = \"https://www.momomall.com.tw/mmlsearch/%E8%80%81%E6%A5%8A.html\" \n",
    "driver=webdriver.Chrome()  #调用本地的火狐浏览器，Chrom 甚至 Ie 也可以的\n",
    "driver.get(url) #请求页面，会打开一个浏览器窗口\n",
    "html_text=driver.page_source\n",
    "driver.quit()\n",
    "#print (html_text)\n",
    "soup=BeautifulSoup(html_text, \"lxml\")\n",
    "\n",
    "for div in soup.find_all('div',{\"class\":\"prdListArea\"}):\n",
    "    for divitems in div.find_all('ul',{\"class\":\"list\"}):\n",
    "        for li in divitems.find_all('li'):\n",
    "            for p in li.find_all('p',{\"class\":\"prdName\"}):\n",
    "                momo['商品']='商品:'+p.text+' '\n",
    "                print(momo['商品'], end='')\n",
    "            for prdPrice in li.find_all('p',{\"class\":\"prdPrice\"}):\n",
    "                for b in li.find_all('b'):\n",
    "                    momo['單價']='單價:'+b.text+' '\n",
    "                    print(momo['單價'])\n",
    "        \n",
    "        \n",
    "print(\"FINISH\")"
   ]
  },
  {
   "cell_type": "code",
   "execution_count": null,
   "metadata": {
    "collapsed": true
   },
   "outputs": [],
   "source": []
  }
 ],
 "metadata": {
  "kernelspec": {
   "display_name": "Python 3",
   "language": "python",
   "name": "python3"
  },
  "language_info": {
   "codemirror_mode": {
    "name": "ipython",
    "version": 3
   },
   "file_extension": ".py",
   "mimetype": "text/x-python",
   "name": "python",
   "nbconvert_exporter": "python",
   "pygments_lexer": "ipython3",
   "version": "3.6.1"
  }
 },
 "nbformat": 4,
 "nbformat_minor": 2
}
