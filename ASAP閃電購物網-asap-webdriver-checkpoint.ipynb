{
 "cells": [
  {
   "cell_type": "code",
   "execution_count": 1,
   "metadata": {},
   "outputs": [
    {
     "name": "stdout",
     "output_type": "stream",
     "text": [
      "ASAP閃電購物網\n",
      "商品:嘉義老楊 方塊酥 (520g) - 麥纖  ,已銷:933件已販售 最後4件  ,單價:250 \n",
      "商品:老楊方塊酥4罐組(麥纖/芝麻) - 麥纖2芝麻2  ,已銷:最後9件  ,單價:626 \n",
      "商品:【任選2盒】老楊 方塊酥 (520g*2)  ,單價:329 \n",
      "商品:【老楊】鹹蛋黃餅  ,已銷:765件已販售  ,單價:59 \n",
      "商品:【老楊】立方罐-4罐組(黑糖、椰香、可可) - 組合D  ,單價:680 \n",
      "FINISH\n"
     ]
    }
   ],
   "source": [
    "import requests as rq\n",
    "from selenium import webdriver\n",
    "from bs4 import BeautifulSoup #导入包\n",
    "import re\n",
    "\n",
    "asap={}\n",
    "\n",
    "url = \"http://www.asap.com.tw/search?q=%E8%80%81%E6%A5%8A&sort=sm_soldqty&asc=0&page=1\" \n",
    "\n",
    "driver=webdriver.Chrome()  #调用本地的火狐浏览器，Chrom 甚至 Ie 也可以的\n",
    "driver.get(url) #请求页面，会打开一个浏览器窗口\n",
    "html_text=driver.page_source\n",
    "driver.quit()\n",
    "#print (html_text)\n",
    "soup=BeautifulSoup(html_text, \"lxml\")\n",
    "\n",
    "\n",
    "\n",
    "print(\"ASAP閃電購物網\")\n",
    "\n",
    "for divitems in soup.find_all('div',{\"class\":\"items\"}):\n",
    "    for linkA in divitems.find_all('a', attrs={'href': re.compile(\"^http\")}):\n",
    "        #print(linkA.get('href'))\n",
    "        childurl=linkA.get('href')\n",
    "        childresponse = rq.get(childurl) # 用 requests 的 get 方法把網頁抓下來\n",
    "        childhtml_doc = childresponse.text # text 屬性就是 html 檔案\n",
    "        childsoup = BeautifulSoup(childhtml_doc, \"lxml\") # 指定 lxml 作為解析器        \n",
    "\n",
    "        for div in childsoup.findAll('div',{\"class\":\"info\"}):                \n",
    "            for span in div.findAll('span',{\"id\":\"item_title\"}):\n",
    "                asap['商品']='商品:'+span.text+' '\n",
    "                print(asap['商品'], end='')\n",
    "            for b in div.findAll('b',{\"id\":\"sales_info\"}):\n",
    "                asap['info']=' ,已銷:'+b.text+' '\n",
    "                print(asap['info'], end='')\n",
    "            for price in div.findAll('span',{\"class\":\"price\",\"id\":\"total_price\"}):\n",
    "                asap['單價']=' ,單價:'+price.text+' '\n",
    "                print(asap['單價'])\n",
    "       \n",
    "\n",
    "\n",
    "\n",
    "print(\"FINISH\")"
   ]
  },
  {
   "cell_type": "code",
   "execution_count": null,
   "metadata": {
    "collapsed": true
   },
   "outputs": [],
   "source": [
    " "
   ]
  }
 ],
 "metadata": {
  "kernelspec": {
   "display_name": "Python 3",
   "language": "python",
   "name": "python3"
  },
  "language_info": {
   "codemirror_mode": {
    "name": "ipython",
    "version": 3
   },
   "file_extension": ".py",
   "mimetype": "text/x-python",
   "name": "python",
   "nbconvert_exporter": "python",
   "pygments_lexer": "ipython3",
   "version": "3.6.1"
  }
 },
 "nbformat": 4,
 "nbformat_minor": 2
}
