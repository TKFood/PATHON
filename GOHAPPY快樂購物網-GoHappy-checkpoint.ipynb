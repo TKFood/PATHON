{
 "cells": [
  {
   "cell_type": "code",
   "execution_count": 26,
   "metadata": {},
   "outputs": [
    {
     "name": "stdout",
     "output_type": "stream",
     "text": [
      "gohappy\n",
      "商品:《老楊》好運來鹹蛋黃餅&紫心地瓜餅&芋頭餅-任選8袋(免運) ,單價:872\n",
      "商品:《老楊》好運來鹹蛋黃餅230g ,單價:128\n",
      "商品:《老楊》鹹蛋黃餅*12盒(免運) ,單價:588\n",
      "商品:《老楊》好運來紫心地瓜餅230g ,單價:128\n",
      "商品:《老楊》黑芝麻餅*12盒(免運) ,單價:588\n",
      "商品:《老楊》好運來芋頭餅230g ,單價:128\n",
      "商品:《老楊》鹹蛋黃餅100g ,單價:55\n",
      "商品:【老楊】立方罐-4罐組(黑糖、椰香、可可) ,單價:680\n",
      "商品:《老楊》鹹蛋黃餅*6盒(免運) ,單價:360\n",
      "商品:【小夫妻Q麵】乾拌麵4包組(沙茶)(任選) ,單價:169\n",
      "商品:【老楊】立方罐-紫心地瓜方塊酥(520g) ,單價:220\n",
      "商品:老楊黑芝麻餅100公克 ,單價:49\n",
      "商品:老楊黑糖方塊酥450g ,單價:88\n",
      "商品:老楊芝麻鹹酥方塊酥450公克 ,單價:90\n",
      "商品:老楊鹹蛋黃餅100公克 ,單價:49\n",
      "商品:嘉義老楊方塊酥-綜合口味540g ,單價:128\n",
      "商品:老楊方塊酥好運來福袋-鹹蛋黃餅4袋組 ,單價:528\n",
      "商品:老楊方塊酥好運來福袋-鹹蛋黃餅6袋組 ,單價:774\n",
      "商品:老楊方塊酥好運來福袋-鹹蛋黃餅12袋組 ,單價:1428\n",
      "商品:老楊方塊酥立方罐2罐組520g ,單價:344\n",
      "FINISH\n"
     ]
    }
   ],
   "source": [
    "import requests as rq\n",
    "import html5lib\n",
    "from urllib.request import urlopen\n",
    "from bs4 import BeautifulSoup \n",
    "import re\n",
    "\n",
    "gohappy={}\n",
    "stringhttp=\"h\"\n",
    "print(\"gohappy\")\n",
    "\n",
    "\n",
    "url = \"http://www.gohappy.com.tw/ec2/search?sid=&hotNum=0&search=%E8%80%81%E6%A5%8A\" \n",
    "response = rq.get(url) # 用 requests 的 get 方法把網頁抓下來\n",
    "html_doc = response.text # text 屬性就是 html 檔案\n",
    "soup = BeautifulSoup(response.text, \"lxml\") # 指定 lxml 作為解析器\n",
    "\n",
    "for div in soup.findAll('div',{\"class\":\"content\"}):\n",
    "    for li in div.findAll('ol',{\"class\":\"proddata-list\"}):\n",
    "        for h3 in li.findAll('h3'):\n",
    "            gohappy['商品']='商品:'+h3.text\n",
    "            print(gohappy['商品'].replace(\" \",\"\").replace(\"\\n\",\"\"), end='')\n",
    "        for strong in li.findAll('strong'):\n",
    "            gohappy['單價']=' ,單價:'+strong.text\n",
    "            print(gohappy['單價'])\n",
    "        \n",
    "print(\"FINISH\")     "
   ]
  },
  {
   "cell_type": "code",
   "execution_count": 13,
   "metadata": {},
   "outputs": [
    {
     "name": "stdout",
     "output_type": "stream",
     "text": [
      "gohappy\n",
      "FINISH\n"
     ]
    }
   ],
   "source": [
    "        \n",
    "        for ul in li.findAll('ul',{\"class\":\"searchlist_area searchlist-h\"}):\n",
    "           \n",
    "            \n",
    "    \n"
   ]
  },
  {
   "cell_type": "code",
   "execution_count": null,
   "metadata": {
    "collapsed": true
   },
   "outputs": [],
   "source": []
  }
 ],
 "metadata": {
  "kernelspec": {
   "display_name": "Python 3",
   "language": "python",
   "name": "python3"
  },
  "language_info": {
   "codemirror_mode": {
    "name": "ipython",
    "version": 3
   },
   "file_extension": ".py",
   "mimetype": "text/x-python",
   "name": "python",
   "nbconvert_exporter": "python",
   "pygments_lexer": "ipython3",
   "version": "3.6.1"
  }
 },
 "nbformat": 4,
 "nbformat_minor": 2
}
