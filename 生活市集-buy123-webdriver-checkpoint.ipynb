{
 "cells": [
  {
   "cell_type": "code",
   "execution_count": 3,
   "metadata": {},
   "outputs": [
    {
     "name": "stdout",
     "output_type": "stream",
     "text": [
      "生活市集\n",
      "商品:老楊經典美味鹹蛋黃餅  ,已售出7682已搶購  ,單價:特價$4.8起 原價$7 \n",
      "商品:老楊方塊酥罐裝系列  ,已售出1853已搶購  ,單價:特價$84起 原價$120 \n",
      "商品:補鼠雙雄大鋼牙3D老鼠盒  ,已售出8已搶購  ,單價:特價$99起 原價$200 \n",
      "商品:老虎牙子有氧濃縮膠囊  ,已售出4740已搶購  ,單價:特價$14起 原價$20 \n",
      "商品:旗山老店枝仔冰城冰棒  ,已售出40已搶購  ,單價:特價$17起 原價$40 \n",
      "商品:老農手摘天然野生桑葚果  ,已售出680已搶購  ,單價:特價$75起 原價$180 \n",
      "商品:老虎牙子經典蘇打有氧飲  ,已售出1860已搶購  ,單價:特價$29起 原價$42 \n",
      "商品:泰國小老板厚片海苔  ,已售出63已搶購  ,單價:特價$53起 原價$75 \n",
      "商品:老農手摘天然野生桑葚果  ,已售出20已搶購  ,單價:特價$88起 原價$180 \n",
      "FINISH\n"
     ]
    }
   ],
   "source": [
    "import requests as rq\n",
    "from selenium import webdriver\n",
    "from bs4 import BeautifulSoup #导入包\n",
    "import re\n",
    "\n",
    "buy123={}\n",
    "\n",
    "url = \"https://www.buy123.com.tw/site/search/?q=%E8%80%81%E6%A5%8A&ref=user_input\" \n",
    "\n",
    "driver=webdriver.Chrome()  #调用本地的火狐浏览器，Chrom 甚至 Ie 也可以的\n",
    "driver.get(url) #请求页面，会打开一个浏览器窗口\n",
    "html_text=driver.page_source\n",
    "driver.quit()\n",
    "#print (html_text)\n",
    "soup=BeautifulSoup(html_text, \"lxml\")\n",
    "\n",
    "print(\"生活市集\")\n",
    "\n",
    "for div in soup.findAll('section',{\"class\":\"deals\"}):\n",
    "    #print(div)\n",
    "     for a in div.findAll('a'):\n",
    "        for divtitle in a.findAll('h3',{\"class\":\"deal-name\"}):\n",
    "            buy123['商品']='商品:'+divtitle.text+' '\n",
    "            print(buy123['商品'], end='')\n",
    "        for span in a.findAll('span',{\"class\":\"count buy-count\"}):\n",
    "            buy123['info']=' ,已售出'+span.text+' '\n",
    "            print(buy123['info'], end='')\n",
    "        for divprice in a.findAll('div',{\"class\":\"price\"}):\n",
    "            buy123['單價']=' ,單價:'+divprice.text.replace(\" \",\"\").replace(\"\\n\",\"\")+' '\n",
    "            print(buy123['單價'])\n",
    "   \n",
    "    \n",
    "    \n",
    "print(\"FINISH\")"
   ]
  },
  {
   "cell_type": "code",
   "execution_count": null,
   "metadata": {
    "collapsed": true
   },
   "outputs": [],
   "source": []
  }
 ],
 "metadata": {
  "kernelspec": {
   "display_name": "Python 3",
   "language": "python",
   "name": "python3"
  },
  "language_info": {
   "codemirror_mode": {
    "name": "ipython",
    "version": 3
   },
   "file_extension": ".py",
   "mimetype": "text/x-python",
   "name": "python",
   "nbconvert_exporter": "python",
   "pygments_lexer": "ipython3",
   "version": "3.6.1"
  }
 },
 "nbformat": 4,
 "nbformat_minor": 2
}
