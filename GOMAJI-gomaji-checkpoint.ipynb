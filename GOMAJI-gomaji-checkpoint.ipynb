{
 "cells": [
  {
   "cell_type": "code",
   "execution_count": 4,
   "metadata": {},
   "outputs": [
    {
     "name": "stdout",
     "output_type": "stream",
     "text": [
      "GOMAJI\n",
      "商品:【老楊】多種餅類系列 4包起  ,單價:$108起 \n",
      "商品:嘉義【老楊】方塊酥大罐裝系列 5罐起  ,單價:$84起 \n",
      "FINISH\n"
     ]
    }
   ],
   "source": [
    "import requests as rq\n",
    "import html5lib\n",
    "from urllib.request import urlopen\n",
    "from bs4 import BeautifulSoup \n",
    "import re\n",
    "\n",
    "GOMAJI={}\n",
    "print(\"GOMAJI\")\n",
    "\n",
    "url = \"http://www.gomaji.com/search.php?keyword=%E8%80%81%E6%A5%8A&ch=7&city=Taipei\" \n",
    "response = rq.get(url) # 用 requests 的 get 方法把網頁抓下來\n",
    "html_doc = response.text # text 屬性就是 html 檔案\n",
    "soup = BeautifulSoup(response.text, \"lxml\") # 指定 lxml 作為解析器\n",
    "\n",
    "for div in soup.findAll('li',{\"class\":\"box-shadow2px\"}):\n",
    "    for h2 in div.findAll('h2',{\"class\":\"ref_name_2_2line\"}):\n",
    "        GOMAJI['商品']='商品:'+h2.text+' '\n",
    "        print(GOMAJI['商品'], end='')\n",
    "    for divprice in div.findAll('em',{\"class\":\"spe-pri\"}):\n",
    "        GOMAJI['單價']=' ,單價:'+divprice.text.replace(\" \",\"\").replace(\"\\n\",\"\")+' '\n",
    "        print(GOMAJI['單價'])\n",
    "    \n",
    "    \n",
    "print(\"FINISH\")"
   ]
  },
  {
   "cell_type": "code",
   "execution_count": null,
   "metadata": {
    "collapsed": true
   },
   "outputs": [],
   "source": []
  }
 ],
 "metadata": {
  "kernelspec": {
   "display_name": "Python 3",
   "language": "python",
   "name": "python3"
  },
  "language_info": {
   "codemirror_mode": {
    "name": "ipython",
    "version": 3
   },
   "file_extension": ".py",
   "mimetype": "text/x-python",
   "name": "python",
   "nbconvert_exporter": "python",
   "pygments_lexer": "ipython3",
   "version": "3.6.1"
  }
 },
 "nbformat": 4,
 "nbformat_minor": 2
}
