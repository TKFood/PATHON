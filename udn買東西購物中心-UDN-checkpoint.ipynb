{
 "cells": [
  {
   "cell_type": "code",
   "execution_count": 18,
   "metadata": {},
   "outputs": [
    {
     "name": "stdout",
     "output_type": "stream",
     "text": [
      "UDN\n",
      "頁次-1\n",
      "商品:老楊 方塊酥-紫心地瓜 370g  ,單價:99 \n",
      "商品:老楊 好運來福袋(230g*任選4袋)  ,單價:499 \n",
      "商品:(任選)老楊 立方罐方塊酥 (520g*任選1罐)  ,單價:160 \n",
      "商品:老楊 立方罐方塊酥 (520g*任選6罐)  ,單價:950 \n",
      "商品:老楊 方塊酥-黑胡椒鹹蛋黃 370g  ,單價:99 \n",
      "商品:(任選)老楊 鹹蛋黃餅(100g/盒)  ,單價:65 \n",
      "商品:老楊 麥纖 方塊酥 450g  ,單價:95 \n",
      "商品:老楊 鹹蛋黃餅 100g  ,單價:57 \n",
      "商品:老楊 黑糖 方塊酥 450g (12入)/箱  ,單價:1119 \n",
      "商品:(任選)老楊 好運來福袋(230g/袋)  ,單價:120 \n",
      "商品:老楊 鹹蛋黃餅 100g (12入)/箱  ,單價:669 \n",
      "商品:老楊 綠豆蒜鹹蛋黃餅 100g  ,單價:57 \n",
      "商品:老楊 綠豆蒜鹹蛋黃餅 100g (12入)/箱  ,單價:669 \n",
      "商品:老楊 黑胡椒鹹蛋黃餅 100g  ,單價:57 \n",
      "商品:老楊 黑胡椒鹹蛋黃餅 100g (12入)/箱  ,單價:669 \n",
      "商品:老楊 好運來 鹹蛋黃餅 230g (12入)/箱  ,單價:1599 \n",
      "商品:老楊 好運來 鹹蛋黃餅 230g  ,單價:135 \n",
      "商品:老楊 鹹蛋黃餅(100g*12盒)  ,單價:720 \n",
      "商品:【華膳空廚】阿里山方塊酥(20入/盒)(附禮袋)  ,單價:600 \n",
      "商品:【華膳空廚】走春首選伴手禮-阿里山方塊酥(20入/盒)(3盒 / 組)  ,單價:1510 \n",
      "頁次-2\n",
      "商品:老楊 黑芝麻餅 100g  ,單價:57 \n",
      "商品:老楊 黑芝麻餅 100g (12入)/箱  ,單價:669 \n",
      "商品:老楊 芝麻 方塊酥 450g  ,單價:95 \n",
      "商品:老楊 芝麻 方塊酥 450g (12入)/箱  ,單價:1119 \n",
      "商品:老楊 麥纖 方塊酥 450g (12入)/箱  ,單價:1119 \n",
      "商品:老楊 方塊酥-香酥芋頭 370g  ,單價:99 \n",
      "商品:老楊 方塊酥 禮盒-3合1綜合口味(麥纖+蔬菜+雞蛋) 540g  ,單價:125 \n",
      "商品:老楊 黑糖 方塊酥 450g  ,單價:95 \n",
      "商品:(任選)老楊 好運來福袋-紫心地瓜(230g/袋) 有效期限:2017/07/11  ,單價:89 \n",
      "商品:【華膳空廚】阿里山方塊酥(20入/盒)大宗優惠(55盒 / 組)  ,單價:24750 \n",
      "商品:【華膳空廚】企業送禮專案 - 阿里山方塊酥(20入/盒)(12盒 / 組)(附禮袋)  ,單價:5760 \n",
      "頁次-3\n",
      "頁次-4\n",
      "FINISH\n"
     ]
    }
   ],
   "source": [
    "import requests as rq\n",
    "import html5lib\n",
    "from urllib.request import urlopen\n",
    "from bs4 import BeautifulSoup \n",
    "import re\n",
    "\n",
    "UDN={}\n",
    "stringhttp=\"h\"\n",
    "print(\"udn買東西購物中心\")\n",
    "\n",
    "for pp in range(1,5):\n",
    "    url = \"http://shopping.udn.com/mall/cus/search/SearchAction.do?start=\"+str(pp)+\"&keyword=%E8%80%81%E6%A5%8A&cid=&sort=weight&pickup=&minP=&maxP=&pageSize=20&key=32303137303630f0f25da6a2ac00cd68c9\" \n",
    "    response = rq.get(url) # 用 requests 的 get 方法把網頁抓下來\n",
    "    html_doc = response.text # text 屬性就是 html 檔案\n",
    "    soup = BeautifulSoup(response.text, \"lxml\") # 指定 lxml 作為解析器\n",
    "\n",
    "    page=\"頁次-\"+str(pp)\n",
    "    print(page)\n",
    "    \n",
    "    for tbody in soup.findAll('table'):\n",
    "        for tr in soup.findAll('tr'):\n",
    "            for psp_name in tr.findAll('p',{\"class\":\"sp_name\"}):\n",
    "                for a in psp_name.findAll('a'):\n",
    "                    UDN['商品']='商品:'+a.text+' '\n",
    "                    print(UDN['商品'], end='')                   \n",
    "            for ppd_price in tr.findAll('p',{\"class\":\"pd_price\"}):\n",
    "                for span in ppd_price.findAll('span'):\n",
    "                    UDN['單價']=' ,單價:'+span.text+' '\n",
    "                    print(UDN['單價'])  \n",
    "    \n",
    "\n",
    "print(\"FINISH\")\n",
    "\n",
    "\n"
   ]
  },
  {
   "cell_type": "code",
   "execution_count": null,
   "metadata": {
    "collapsed": true
   },
   "outputs": [],
   "source": []
  }
 ],
 "metadata": {
  "kernelspec": {
   "display_name": "Python 3",
   "language": "python",
   "name": "python3"
  },
  "language_info": {
   "codemirror_mode": {
    "name": "ipython",
    "version": 3
   },
   "file_extension": ".py",
   "mimetype": "text/x-python",
   "name": "python",
   "nbconvert_exporter": "python",
   "pygments_lexer": "ipython3",
   "version": "3.6.1"
  }
 },
 "nbformat": 4,
 "nbformat_minor": 2
}
