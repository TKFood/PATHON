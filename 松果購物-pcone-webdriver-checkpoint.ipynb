{
 "cells": [
  {
   "cell_type": "code",
   "execution_count": 9,
   "metadata": {},
   "outputs": [
    {
     "name": "stdout",
     "output_type": "stream",
     "text": [
      "松果購物\n",
      "商品:老楊黑胡椒鹹蛋黃/香酥芋頭/紫心地瓜方塊酥370g/罐【櫻桃飾品】【25662】$99$2504折2 單價:$99 \n",
      "商品:日本老舖【遊月亭】黑豆茶$218$3805.7折(1)10 單價:$218 \n",
      "商品:【MSL】教師藤椅中型(低老人藤椅)$1980$32806折1 單價:$1980 \n",
      "商品:老爸ㄟ蔥油餅$12$254.8折0 單價:$12 \n",
      "商品:【MSL】福樂藤皮老人藤椅$5280$99805.3折0 單價:$5280 \n",
      "商品:【MSL】精緻單護腰老人藤椅$3280$57805.7折0 單價:$3280 \n",
      "商品:【老克明】原味蔥油餅(240±10g)X5/包$367$4009.2折3 單價:$367 \n",
      "商品:老爸的手工甜點-抹茶派$880$9509.3折0 單價:$880 \n",
      "商品:【MSL】雙護腰藤椅一般型(老人藤椅)$2980$45806.5折0 單價:$2980 \n",
      "商品:老爸的手工甜點-格雷派$880$9509.3折0 單價:$880 \n",
      "商品:【MSL】教師藤椅一般型(老人藤椅)$2300$39805.8折2 單價:$2300 \n",
      "商品:【MSL】單護腰藤椅一般型(老人藤椅)$2680$39806.7折1 單價:$2680 \n",
      "商品:【MSL】*關廟藤椅*福樂圓背老人藤椅$3980$75005.3折0 單價:$3980 \n",
      "商品:【MSL】*關廟藤椅*福樂方背老人藤椅$3980$65006.1折0 單價:$3980 \n",
      "商品:TuroshioTR90偏光套鏡-近視/老花可戴H80102C8粉紫(小)$990$21804.5折0 單價:$990 \n",
      "商品:TuroshioTR90偏光套鏡-近視/老花可戴H80099C9玳咖(中)$990$21804.5折0 單價:$990 \n",
      "商品:老爸的手工甜點-季節.水果派$880$9509.3折0 單價:$880 \n",
      "商品:【MSL】福寶教師藤椅(雙護腰型老人藤椅)$3580$59806折0 單價:$3580 \n",
      "商品:【維京國際】老虎卡車$225$3007.5折0 單價:$225 \n",
      "商品:老爸ㄟ廚房麻香素杏鮑菇$100$1805.6折4 單價:$100 \n",
      "FINISH\n"
     ]
    }
   ],
   "source": [
    "import requests as rq\n",
    "from selenium import webdriver\n",
    "from bs4 import BeautifulSoup #导入包\n",
    "import re\n",
    "\n",
    "pcone={}\n",
    "print(\"松果購物\")\n",
    "\n",
    "\n",
    "url = \"https://www.pcone.com.tw/search?q=%E8%80%81%E6%A5%8A\" \n",
    "\n",
    "driver=webdriver.Chrome()  #调用本地的火狐浏览器，Chrom 甚至 Ie 也可以的\n",
    "driver.get(url) #请求页面，会打开一个浏览器窗口\n",
    "html_text=driver.page_source\n",
    "driver.quit()\n",
    "#print (html_text)\n",
    "soup=BeautifulSoup(html_text, \"lxml\")\n",
    "\n",
    "for divproduct in soup.findAll('div',{\"class\":\"product-list-wrapper\"}):\n",
    "    for a in divproduct.findAll('a',{\"class\":\"product-list-item\"}):   \n",
    "        for div in a.findAll('div',{\"class\":\"info-wrapper\"}):\n",
    "            pcone['商品']='商品:'+div.text.replace(\" \",\"\").replace(\"\\n\",\"\")+' '\n",
    "            print(pcone['商品'], end='')\n",
    "        for sale in a.findAll('span',{\"class\":\"sale\"}):\n",
    "            pcone['單價']='單價:'+sale.text.replace(\" \",\"\").replace(\"\\n\",\"\")+' '\n",
    "            print(pcone['單價'])\n",
    "            \n",
    "print(\"FINISH\")"
   ]
  },
  {
   "cell_type": "code",
   "execution_count": null,
   "metadata": {
    "collapsed": true
   },
   "outputs": [],
   "source": []
  }
 ],
 "metadata": {
  "kernelspec": {
   "display_name": "Python 3",
   "language": "python",
   "name": "python3"
  },
  "language_info": {
   "codemirror_mode": {
    "name": "ipython",
    "version": 3
   },
   "file_extension": ".py",
   "mimetype": "text/x-python",
   "name": "python",
   "nbconvert_exporter": "python",
   "pygments_lexer": "ipython3",
   "version": "3.6.1"
  }
 },
 "nbformat": 4,
 "nbformat_minor": 2
}
