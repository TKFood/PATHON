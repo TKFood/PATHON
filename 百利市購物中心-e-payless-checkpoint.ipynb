{
 "cells": [
  {
   "cell_type": "code",
   "execution_count": 1,
   "metadata": {},
   "outputs": [
    {
     "name": "stdout",
     "output_type": "stream",
     "text": [
      "百利市購物中心\n",
      "商品:【老楊】鹹蛋黃餅 (100g*6盒)  ,單價:370 \n",
      "商品:【老楊】鹹蛋黃餅 (100g*12盒)  ,單價:680 \n",
      "商品:【老楊】立方罐方塊酥 (520g/罐) 任選4罐  ,單價:639 \n",
      "FINISH\n"
     ]
    }
   ],
   "source": [
    "import requests as rq\n",
    "import html5lib\n",
    "from urllib.request import urlopen\n",
    "from bs4 import BeautifulSoup \n",
    "import re\n",
    "\n",
    "FRIADY={}\n",
    "print(\"百利市購物中心\")\n",
    "\n",
    "url = \"http://shopping.friday.tw/search?keyword=%E8%80%81%E6%A5%8A&productCategory=%2F\" \n",
    "response = rq.get(url) # 用 requests 的 get 方法把網頁抓下來\n",
    "html_doc = response.text # text 屬性就是 html 檔案\n",
    "soup = BeautifulSoup(response.text, \"lxml\") # 指定 lxml 作為解析器\n",
    "\n",
    "for div in soup.findAll('div',{\"class\":\"search-result-item-text\"}):\n",
    "    for p in div.findAll('p',{\"class\":\"desc\"}):\n",
    "        FRIADY['商品']='商品:'+p.text+' '\n",
    "        print(FRIADY['商品'], end='')\n",
    "    for span in div.findAll('span',{\"class\":\"num\"}):\n",
    "        FRIADY['單價']=' ,單價:'+span.text+' '\n",
    "        print(FRIADY['單價'])\n",
    "    \n",
    "    \n",
    "print(\"FINISH\")"
   ]
  },
  {
   "cell_type": "code",
   "execution_count": null,
   "metadata": {
    "collapsed": true
   },
   "outputs": [],
   "source": []
  }
 ],
 "metadata": {
  "kernelspec": {
   "display_name": "Python 3",
   "language": "python",
   "name": "python3"
  },
  "language_info": {
   "codemirror_mode": {
    "name": "ipython",
    "version": 3
   },
   "file_extension": ".py",
   "mimetype": "text/x-python",
   "name": "python",
   "nbconvert_exporter": "python",
   "pygments_lexer": "ipython3",
   "version": "3.6.1"
  }
 },
 "nbformat": 4,
 "nbformat_minor": 2
}
