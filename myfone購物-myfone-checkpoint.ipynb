{
 "cells": [
  {
   "cell_type": "code",
   "execution_count": 3,
   "metadata": {},
   "outputs": [
    {
     "name": "stdout",
     "output_type": "stream",
     "text": [
      "myfone\n",
      "商品:老楊好運來鹹蛋黃餅袋裝(8袋)  ,單價:$875 \n",
      "商品:老楊好運來紫心地瓜餅袋裝-8袋  ,單價:$875 \n",
      "商品:老楊好運來黑芝麻餅袋裝*(8袋)  ,單價:$875 \n",
      "商品:老楊鹹蛋黃餅(100g/12盒/箱)  ,單價:$588 \n",
      "商品:老楊好運來芋頭餅袋裝-8袋  ,單價:$715 \n",
      "商品:老楊黑芝麻餅(100g/12盒/箱)  ,單價:$588 \n",
      "FINISH\n"
     ]
    }
   ],
   "source": [
    "import requests as rq\n",
    "import html5lib\n",
    "from urllib.request import urlopen\n",
    "from bs4 import BeautifulSoup \n",
    "import re\n",
    "\n",
    "myfone={}\n",
    "print(\"myfone購物\")\n",
    "\n",
    "url = \"https://search.myfone.com.tw/searchResult.php?keyword=%E8%80%81%E6%A5%8A&order_type=1&sort_id=&source_id=1&min_price=&max_price=&promo_page_no=1&page_no=1&show_type=2\" \n",
    "response = rq.get(url) # 用 requests 的 get 方法把網頁抓下來\n",
    "html_doc = response.text # text 屬性就是 html 檔案\n",
    "soup = BeautifulSoup(response.text, \"lxml\") # 指定 lxml 作為解析器\n",
    "\n",
    "for div in soup.findAll('div',{\"class\":\"subCategory\"}):\n",
    "    for li in div.findAll('li',{\"class\":\"searchPdcList\"}):\n",
    "        for p in li.findAll('p',{\"class\":\"title\"}):\n",
    "            myfone['商品']='商品:'+p.text+' '\n",
    "            print(myfone['商品'], end='')\n",
    "        for classprice in li.findAll('p',{\"class\":\"price\"}):\n",
    "            myfone['單價']=' ,單價:'+classprice.text+' '\n",
    "            print(myfone['單價'])\n",
    "    \n",
    "    \n",
    "print(\"FINISH\")"
   ]
  },
  {
   "cell_type": "code",
   "execution_count": null,
   "metadata": {
    "collapsed": true
   },
   "outputs": [],
   "source": []
  }
 ],
 "metadata": {
  "kernelspec": {
   "display_name": "Python 3",
   "language": "python",
   "name": "python3"
  },
  "language_info": {
   "codemirror_mode": {
    "name": "ipython",
    "version": 3
   },
   "file_extension": ".py",
   "mimetype": "text/x-python",
   "name": "python",
   "nbconvert_exporter": "python",
   "pygments_lexer": "ipython3",
   "version": "3.6.1"
  }
 },
 "nbformat": 4,
 "nbformat_minor": 2
}
