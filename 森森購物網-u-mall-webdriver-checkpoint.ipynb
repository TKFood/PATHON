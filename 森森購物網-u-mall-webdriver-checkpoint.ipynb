{
 "cells": [
  {
   "cell_type": "code",
   "execution_count": 1,
   "metadata": {},
   "outputs": [
    {
     "name": "stdout",
     "output_type": "stream",
     "text": [
      "森森購物網\n",
      "商品:老楊鹹蛋黃餅230g/袋X3團購美食台灣名產,單價:450\n",
      "商品:老楊立方罐方塊酥(520g*6罐),單價:960\n",
      "商品:老楊鹹蛋黃餅(100g)*12盒,單價:720\n",
      "商品:老楊好運來福袋(230g*6袋),單價:760\n",
      "商品:【華膳空廚】阿里山方塊酥(400g±10%/盒)x3盒組,單價:1,450\n",
      "商品:【華膳空廚】阿里山方塊酥(400g±10%/盒)x2盒組,單價:1,300\n",
      "FINISH\n"
     ]
    }
   ],
   "source": [
    "from selenium import webdriver\n",
    "from bs4 import BeautifulSoup #导入包\n",
    "\n",
    "etmail={}\n",
    "\n",
    "url = \"http://www.u-mall.com.tw/Search.aspx?SearchKeyword=%E8%80%81%E6%A5%8A\" \n",
    "\n",
    "driver=webdriver.Chrome()  #调用本地的火狐浏览器，Chrom 甚至 Ie 也可以的\n",
    "driver.get(url) #请求页面，会打开一个浏览器窗口\n",
    "html_text=driver.page_source\n",
    "driver.quit()\n",
    "#print (html_text)\n",
    "soup=BeautifulSoup(html_text, \"lxml\")\n",
    "\n",
    "print(\"森森購物網\")\n",
    "\n",
    "for divbd in soup.find_all('div',{\"class\":\"bd clearfix\"}): \n",
    "    for div in divbd.find_all('div',{\"class\":\"clearfix\"}): \n",
    "        for divinfo in div.find_all('div',{\"class\":\"Gd-info\"}): \n",
    "            for a in divinfo.find_all(\"a\",{\"class\":\"GAEventTracking PHType-Normal PHType-AD\"}): \n",
    "                for divGOOD in a.find_all(\"div\",{\"class\":\"Gd-name\"}): \n",
    "                        etmail['商品']='商品:'+divGOOD.text.replace(\" \",\"\").replace(\"\\n\",\"\")\n",
    "                        print(etmail['商品'], end='')\n",
    "                for divGOODPRC in a.find_all(\"div\",{\"class\":\"Gd-prc\"}): \n",
    "                    for span in divGOODPRC.find_all(\"span\"): \n",
    "                        etmail['單價']=',單價:'+span.text.replace(\" \",\"\").replace(\"\\n\",\"\")\n",
    "                        print(etmail['單價'])\n",
    "                        #print(divinfo)\n",
    "\n",
    "print(\"FINISH\")"
   ]
  },
  {
   "cell_type": "code",
   "execution_count": null,
   "metadata": {
    "collapsed": true
   },
   "outputs": [],
   "source": []
  }
 ],
 "metadata": {
  "kernelspec": {
   "display_name": "Python 3",
   "language": "python",
   "name": "python3"
  },
  "language_info": {
   "codemirror_mode": {
    "name": "ipython",
    "version": 3
   },
   "file_extension": ".py",
   "mimetype": "text/x-python",
   "name": "python",
   "nbconvert_exporter": "python",
   "pygments_lexer": "ipython3",
   "version": "3.6.1"
  }
 },
 "nbformat": 4,
 "nbformat_minor": 2
}
