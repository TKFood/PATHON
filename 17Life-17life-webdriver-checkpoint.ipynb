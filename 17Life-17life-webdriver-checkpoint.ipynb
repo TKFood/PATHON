{
 "cells": [
  {
   "cell_type": "code",
   "execution_count": 2,
   "metadata": {},
   "outputs": [
    {
     "name": "stdout",
     "output_type": "stream",
     "text": [
      "17life\n",
      "商品:老楊方塊酥-罐裝新品上市-口味任選  ,已售出已售出2767份  ,單價:$85起 \n",
      "FINISH\n"
     ]
    }
   ],
   "source": [
    "import requests as rq\n",
    "from selenium import webdriver\n",
    "from bs4 import BeautifulSoup #导入包\n",
    "import re\n",
    "\n",
    "life={}\n",
    "\n",
    "url = \"http://www.17life.com/ppon/pponsearch.aspx?search=%E8%80%81%E6%A5%8A\" \n",
    "\n",
    "driver=webdriver.Chrome()  #调用本地的火狐浏览器，Chrom 甚至 Ie 也可以的\n",
    "driver.get(url) #请求页面，会打开一个浏览器窗口\n",
    "html_text=driver.page_source\n",
    "driver.quit()\n",
    "#print (html_text)\n",
    "soup=BeautifulSoup(html_text, \"lxml\")\n",
    "\n",
    "print(\"17life\")\n",
    "\n",
    "for div in soup.findAll('div',{\"class\":\"item_3col\"}):\n",
    "    #print(div)\n",
    "     for a in div.findAll('a'):\n",
    "        for divtitle in a.findAll('div',{\"class\":\"tag_title\"}):\n",
    "            life['商品']='商品:'+divtitle.text+' '\n",
    "            print(life['商品'], end='')\n",
    "        for span in a.findAll('span',{\"class\":\"tag_buycounter\"}):\n",
    "            life['info']=' ,已售出'+span.text+' '\n",
    "            print(life['info'], end='')\n",
    "        for divprice in a.findAll('span',{\"class\":\"price\"}):\n",
    "            life['單價']=' ,單價:'+divprice.text.replace(\" \",\"\").replace(\"\\n\",\"\")+' '\n",
    "            print(life['單價'])\n",
    "   \n",
    "    \n",
    "    \n",
    "print(\"FINISH\")"
   ]
  },
  {
   "cell_type": "code",
   "execution_count": null,
   "metadata": {
    "collapsed": true
   },
   "outputs": [],
   "source": []
  }
 ],
 "metadata": {
  "kernelspec": {
   "display_name": "Python 3",
   "language": "python",
   "name": "python3"
  },
  "language_info": {
   "codemirror_mode": {
    "name": "ipython",
    "version": 3
   },
   "file_extension": ".py",
   "mimetype": "text/x-python",
   "name": "python",
   "nbconvert_exporter": "python",
   "pygments_lexer": "ipython3",
   "version": "3.6.1"
  }
 },
 "nbformat": 4,
 "nbformat_minor": 2
}
