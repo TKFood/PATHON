{
 "cells": [
  {
   "cell_type": "code",
   "execution_count": 1,
   "metadata": {},
   "outputs": [
    {
     "name": "stdout",
     "output_type": "stream",
     "text": [
      "PayEasy線上購物   \n",
      "商品:《呷七碗》藜麥方塊酥-日式海苔(全素)(370公克/罐，共兩罐)  ,單價:540 \n",
      "商品:《呷七碗》藜麥方塊酥-紫心地瓜(奶素)(370公克/罐，共兩罐)  ,單價:540 \n",
      "商品:《呷七碗》藜麥方塊酥-經典三麻(全素)(370公克/罐，共兩罐)  ,單價:540 \n",
      "FINISH\n"
     ]
    }
   ],
   "source": [
    "import requests as rq\n",
    "import html5lib\n",
    "from selenium import webdriver\n",
    "from urllib.request import urlopen\n",
    "from bs4 import BeautifulSoup \n",
    "import re\n",
    "\n",
    "payeasy={}\n",
    "print(\"PayEasy線上購物   \")\n",
    "\n",
    "url = \"https://www.payeasy.com.tw/search/search3/index.html?q=%E8%80%81%E6%A5%8A&ppcName2=%E5%85%A8%E9%A1%9E%E5%88%A5&lv=2\" \n",
    "\n",
    "driver=webdriver.Chrome()  #调用本地的火狐浏览器，Chrom 甚至 Ie 也可以的\n",
    "driver.get(url) #请求页面，会打开一个浏览器窗口\n",
    "html_text=driver.page_source\n",
    "driver.quit()\n",
    "#print (html_text)\n",
    "soup=BeautifulSoup(html_text, \"lxml\")\n",
    "\n",
    "for li in soup.findAll('li',{\"class\":\"item\"}):\n",
    "    #print(ul)\n",
    "    for p in li.findAll('p',{\"class\":\"ProductName\"}):\n",
    "        payeasy['商品']='商品:'+p.text+' '\n",
    "        print(payeasy['商品'], end='')\n",
    "    for label in li.findAll('label',{\"class\":\"prePrice\"}):\n",
    "        for span in label.findAll('span'):\n",
    "            payeasy['單價']=' ,單價:'+span.text+' '\n",
    "            print(payeasy['單價'])\n",
    "    \n",
    "    \n",
    "print(\"FINISH\")\n",
    "\n"
   ]
  },
  {
   "cell_type": "code",
   "execution_count": null,
   "metadata": {
    "collapsed": true
   },
   "outputs": [],
   "source": []
  }
 ],
 "metadata": {
  "kernelspec": {
   "display_name": "Python 3",
   "language": "python",
   "name": "python3"
  },
  "language_info": {
   "codemirror_mode": {
    "name": "ipython",
    "version": 3
   },
   "file_extension": ".py",
   "mimetype": "text/x-python",
   "name": "python",
   "nbconvert_exporter": "python",
   "pygments_lexer": "ipython3",
   "version": "3.6.1"
  }
 },
 "nbformat": 4,
 "nbformat_minor": 2
}
