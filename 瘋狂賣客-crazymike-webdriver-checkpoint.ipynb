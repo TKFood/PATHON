{
 "cells": [
  {
   "cell_type": "code",
   "execution_count": 8,
   "metadata": {},
   "outputs": [
    {
     "name": "stdout",
     "output_type": "stream",
     "text": [
      "瘋狂賣客\n",
      "商品:【老楊方塊酥】立方罐系列(520g/罐，5口味任選) 商品:(超值2袋起)【老楊】澎派包系列 鹹蛋黃餅/黑芝麻餅/紫心地瓜餅  ,單價:$160起 \n",
      " ,單價:$108起 \n",
      "商品:【老楊方塊酥】立方罐系列(520g/罐，5口味任選) 商品:(超值2袋起)【老楊】澎派包系列 鹹蛋黃餅/黑芝麻餅/紫心地瓜餅  ,單價:$160起 \n",
      " ,單價:$108起 \n",
      "商品:【老楊方塊酥】立方罐系列(520g/罐，5口味任選) 商品:(超值2袋起)【老楊】澎派包系列 鹹蛋黃餅/黑芝麻餅/紫心地瓜餅  ,單價:$160起 \n",
      " ,單價:$108起 \n",
      "商品:【老楊方塊酥】立方罐系列(520g/罐，5口味任選) 商品:(超值2袋起)【老楊】澎派包系列 鹹蛋黃餅/黑芝麻餅/紫心地瓜餅  ,單價:$160起 \n",
      " ,單價:$108起 \n",
      "商品:【老楊方塊酥】立方罐系列(520g/罐，5口味任選)  ,單價:$160起 \n",
      "商品:【老楊方塊酥】立方罐系列(520g/罐，5口味任選)  ,單價:$160起 \n",
      " ,單價:$160起 \n",
      "商品:(超值2袋起)【老楊】澎派包系列 鹹蛋黃餅/黑芝麻餅/紫心地瓜餅  ,單價:$108起 \n",
      "商品:(超值2袋起)【老楊】澎派包系列 鹹蛋黃餅/黑芝麻餅/紫心地瓜餅  ,單價:$108起 \n",
      " ,單價:$108起 \n",
      "FINISH\n"
     ]
    }
   ],
   "source": [
    "import requests as rq\n",
    "from selenium import webdriver\n",
    "from bs4 import BeautifulSoup #导入包\n",
    "import re\n",
    "\n",
    "crazymike={}\n",
    "print(\"瘋狂賣客\")\n",
    "\n",
    "url = \"https://crazymike.tw/search?w=%E8%80%81%E6%A5%8A\" \n",
    "\n",
    "driver=webdriver.Chrome()  #调用本地的火狐浏览器，Chrom 甚至 Ie 也可以的\n",
    "driver.get(url) #请求页面，会打开一个浏览器窗口\n",
    "html_text=driver.page_source\n",
    "driver.quit()\n",
    "#print (html_text)\n",
    "soup=BeautifulSoup(html_text, 'html.parser')\n",
    "\n",
    "for div in soup.findAll('div'): \n",
    "    for iName in div.findAll('div',{\"class\":\"iName\"}):\n",
    "        crazymike['商品']='商品:'+iName.text+' '\n",
    "        print(crazymike['商品'], end='')\n",
    "    for iPrice in div.findAll('div',{\"class\":\"iPrice num\"}):\n",
    "        crazymike['單價']=' ,單價:'+iPrice.text.replace(\" \",\"\").replace(\"\\n\",\"\")+' '\n",
    "        print(crazymike['單價'])\n",
    "    \n",
    "print(\"FINISH\")"
   ]
  },
  {
   "cell_type": "code",
   "execution_count": null,
   "metadata": {
    "collapsed": true
   },
   "outputs": [],
   "source": [
    "    "
   ]
  }
 ],
 "metadata": {
  "kernelspec": {
   "display_name": "Python 3",
   "language": "python",
   "name": "python3"
  },
  "language_info": {
   "codemirror_mode": {
    "name": "ipython",
    "version": 3
   },
   "file_extension": ".py",
   "mimetype": "text/x-python",
   "name": "python",
   "nbconvert_exporter": "python",
   "pygments_lexer": "ipython3",
   "version": "3.6.1"
  }
 },
 "nbformat": 4,
 "nbformat_minor": 2
}
