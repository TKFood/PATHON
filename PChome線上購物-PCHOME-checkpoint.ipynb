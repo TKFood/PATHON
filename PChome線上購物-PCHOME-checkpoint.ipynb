{
 "cells": [
  {
   "cell_type": "code",
   "execution_count": 25,
   "metadata": {},
   "outputs": [
    {
     "name": "stdout",
     "output_type": "stream",
     "text": [
      "PChome線上購物\n",
      "商品:老楊鹹蛋黃餅230G商品:$129\n",
      "商品:▼每日強檔‧瘋殺特賣▼老楊鹹蛋黃餅(230gx3袋)商品:$327\n",
      "商品:甜鹹好滋味▼平均$108/袋老楊鹹蛋黃餅x5袋商品:$539\n",
      "商品:老楊黑芝麻餅230G商品:$135\n",
      "商品:老楊黑糖方塊酥450G商品:$89\n",
      "商品:優質地方特產堅持優良品質商品:$135\n",
      "商品:優質地方特產堅持優良品質商品:$135\n",
      "商品:【老楊】立方罐-麥纖方塊酥(原味)(520g)商品:$180\n",
      "商品:老楊黑芝麻餅x3袋商品:$399\n",
      "商品:老楊芝麻鹹酥方塊酥450G商品:$89\n",
      "商品:老楊好運來紫心地瓜餅(230公克)商品:$135\n",
      "商品:老楊麥纖方塊酥450G商品:$89\n",
      "商品:【老楊】立方罐-芝麻鹹酥方塊酥(520g)商品:$180\n",
      "商品:【老楊】立方罐-麥纖方塊酥(原味)(520g)x3罐\t商品:$519\n",
      "商品:【老楊】立方罐-紫心地瓜方塊酥(520g)商品:$180\n",
      "商品:【老楊】立方罐-椰香方塊酥(520g)x2罐商品:$359\n",
      "商品:【老楊】立方罐-黑糖方塊酥(520g)商品:$180\n",
      "商品:老楊海苔鹹酥方塊酥450G商品:$89\n",
      "商品:【老楊】立方罐-可可方塊酥(520g)商品:$180\n",
      "商品:【老楊】立方罐-杏仁方塊酥(520g)商品:$180\n",
      "商品:【老楊】立方罐-羅勒方塊酥(520g)商品:$180\n",
      "商品:【老楊】立方罐-可可方塊酥(520gx2罐)商品:$349\n",
      "商品:【老楊】立方罐-杏仁方塊酥(520gx2罐)商品:$359\n",
      "商品:【老楊】立方罐-黑糖方塊酥(520gx2罐)商品:$359\n",
      "商品:報告狗老大:楊靜宇醫師的全方位健狗大補帖商品:$221\n",
      "商品:【老楊】立方罐方塊酥-4罐組(黑糖、椰香、可可)商品:$680\n",
      "商品:【南紡購物中心】最縝密的傳統手工!!!真材實料鹹蛋黃精心製作【老楊】鹹蛋黃餅100g商品:$65\n",
      "商品:不要在該奮鬥時選擇安逸商品:$205\n",
      "商品:勇氣心理學:阿德勒觀點的健康社會生活(平裝)商品:$277\n",
      "商品:父母會傷人(平裝)商品:$237\n",
      "商品:兒童注意力訓練手冊(平裝)商品:$316\n",
      "商品:典範鼎泰豐(平裝)鼎泰豐現任老闆楊紀華授權的第一本首度披露底細的書.如何從賣油小店,晉身世界十大餐廳,鼎泰豐的每位有秘方嗎?經營的竅門是什麼?商品:$237\n",
      "商品:國小英語教學影片:ReadingLand(Ⅲ)(DVD)商品:$270\n",
      "商品:國小英語教學影片:ReadingLand(Ⅳ)商品:$270\n",
      "商品:國小英語教學影片:ReadingLand(Ⅴ)(DVD)商品:$270\n",
      "商品:可以溝通,真好(平裝)商品:$221\n",
      "商品:女人的壓力處方(平裝)商品:$198\n",
      "FINISH\n"
     ]
    }
   ],
   "source": [
    "import requests as rq\n",
    "import html5lib\n",
    "from urllib.request import urlopen\n",
    "from bs4 import BeautifulSoup \n",
    "from selenium import webdriver\n",
    "import time\n",
    "\n",
    "PChome={}\n",
    "    \n",
    "#cookie=driver.get_cookies()\n",
    "url = \"http://ecshweb.pchome.com.tw/search/v3.3/?q=%E8%80%81%E6%A5%8A\"\n",
    "#time.sleep(5)\n",
    "driver=webdriver.Chrome()  #调用本地的火狐浏览器，Chrom 甚至 Ie 也可以的\n",
    "driver.get(url) #请求页面，会打开一个浏览器窗口\n",
    "\n",
    "\n",
    "#print (html_text)\n",
    "\n",
    "\n",
    "\n",
    "print(\"PChome線上購物\")\n",
    "\n",
    "def execute_times(times):\n",
    "    for i in range(times + 1):\n",
    "        driver.execute_script(\"window.scrollTo(0, document.body.scrollHeight);\")\n",
    "        time.sleep(5)\n",
    "execute_times(2)\n",
    "\n",
    "html_text=driver.page_source\n",
    "soup=BeautifulSoup(html_text, \"lxml\")\n",
    "\n",
    "\n",
    "\n",
    "for dl in soup.findAll('dl',{\"class\":\"col3f\"}):\n",
    "    for span in dl.findAll('span',{\"class\":\"nick\"}):\n",
    "        PChome['商品']='商品:'+span.text.replace(\" \",\"\").replace(\"\\n\",\"\")\n",
    "        print(PChome['商品'], end='')\n",
    "    for price in dl.findAll('span',{\"class\":\"price\"}):\n",
    "        PChome['商品']='商品:'+price.text.replace(\" \",\"\").replace(\"\\n\",\"\")\n",
    "        print(PChome['商品'])\n",
    "     \n",
    "\n",
    "driver.quit()\n",
    "\n",
    "print(\"FINISH\")\n",
    "\n"
   ]
  },
  {
   "cell_type": "code",
   "execution_count": null,
   "metadata": {
    "collapsed": true
   },
   "outputs": [],
   "source": []
  }
 ],
 "metadata": {
  "kernelspec": {
   "display_name": "Python 3",
   "language": "python",
   "name": "python3"
  },
  "language_info": {
   "codemirror_mode": {
    "name": "ipython",
    "version": 3
   },
   "file_extension": ".py",
   "mimetype": "text/x-python",
   "name": "python",
   "nbconvert_exporter": "python",
   "pygments_lexer": "ipython3",
   "version": "3.6.1"
  }
 },
 "nbformat": 4,
 "nbformat_minor": 2
}
