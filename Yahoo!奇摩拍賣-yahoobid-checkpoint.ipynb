{
 "cells": [
  {
   "cell_type": "code",
   "execution_count": null,
   "metadata": {},
   "outputs": [
    {
     "name": "stdout",
     "output_type": "stream",
     "text": [
      "YAHOObid\n",
      "頁次-1\n",
      "已售出 71 件  ,商品:老楊鹹蛋黃餅/黑芝麻餅 大包裝(230g) 團購熱銷零食【我來風】 ,單價:109\n",
      " ,商品:老楊說茶鑒茶泡茶茶療入門(2012年新版) 楊學軍 2012-5-1 中國紡織已售出 0 件  ,商品:老楊三合一方塊酥-麥纖/雞蛋/蔬菜口味(1500g/盒) ,單價:283\n",
      "已售出 64 件  ,商品:駿弘糖果餅乾~寶龍小奇福餅乾(原味)*量販價3000公克300元*另有黑糖口味~有賣老楊鹹蛋黃餅~歡迎團購美食! ,單價:300\n",
      "已售出 4 件  ,商品:駿弘糖果餅乾~老楊榴槤餅230公克特價99元~原廠包裝~另有老楊芋頭餅~黑胡椒鹹蛋黃餅~紫心地瓜餅! ,單價:99\n",
      "已售出 8 件  ,商品:駿弘糖果餅乾~老楊榴槤餅230公克特價99元~另有老楊芋頭餅~黑胡椒鹹蛋黃餅~紫心地瓜餅! ,單價:99\n",
      "已售出 9 件  ,商品:駿弘糖果餅乾~老楊~榴槤餅230公克特價99元~另有芋頭餅~黑胡椒鹹蛋黃餅~紫心地瓜餅! ,單價:99\n",
      "已售出 17 件  ,商品:駿弘糖果餅乾~炭烤魷魚條~230公克50元~休閒必備的零嘴~另有乖乖軟糖.南瓜酥.老楊鹹蛋黃餅! ,單價:50\n",
      "已售出 168 件  ,商品:***幸福餅乾屋***經典好味道~老楊鹹蛋黃餅~230公克~另有杏仁千層酥~蛋黃派~KID-O系列~桃酥~奶酥~ ,單價:100\n",
      "已售出 5 件  ,商品:***幸福餅乾屋***健康日誌~比利時風味餅乾(黑糖口味)~396公克~奶蛋素~另有老楊鹹蛋黃餅/芝麻餅~台灣製~ ,單價:90\n",
      "已售出 2 件  ,商品:***幸福餅乾屋***經典好味道~老楊黑芝麻餅~230公克~另有老楊鹹蛋黃餅~蛋黃派~KID-O系列~桃酥~奶酥~ ,單價:100\n",
      "已售出 0 件  ,商品:老楊音響 二手LUXMAN M-200 小型立体聲擴大機1台 少用95成新(一元起標) ,單價:27,000\n",
      "已售出 0 件  ,商品:老楊音響 二手 AMC CVT-3040稀有前晶後管立體聲擴大機 品相佳良品(一元起標) ,單價:13,500\n",
      "已售出 0 件  ,商品:老楊音響 二手日製Panasonic SU-DN7高低音分別輸出綜擴及SB-DV100三音路高中/低分別輸入桌上型喇叭 ,單價:5,600\n",
      "已售出 0 件  ,商品:老楊音響 二手YAMAHA  JA3813 15吋低音單体一對 (一元起標) ,單價:4,400\n",
      "已售出 0 件  ,商品:老楊音響  二手JVC AX-K66TM 卡拉OK迴音擴大機 良品(一元起標) ,單價:3,500\n",
      "已售出 0 件  ,商品:老楊音響 二手台製6,5吋 10公分大磁鐵單体1對(共有2對)品相佳良品[一元起標] ,單價:1,200\n",
      "已售出 0 件  ,商品:老楊音響  二手Atlanta  AOC-9046A 8吋4單体落地型喇叭一對 品相尚佳 詳看說明【一元起標】 ,單價:3,000\n",
      "已售出 979 件  ,商品:『哈囉購』現貨 老楊方塊酥好運來系列 鹹蛋黃餅 黑芝麻 黑胡椒鹹蛋黃 綠豆蒜鹹蛋黃 紫心地瓜 榴槤 芋頭 230g/袋 ,單價:95\n",
      "已售出 0 件  ,商品:【老楊】鹹蛋黃餅 方塊酥 餅乾  230g袋裝 ,單價:100\n",
      "已售出 37 件  ,商品:老楊 黑芝麻餅 230g 另有鹹蛋黃 黑胡椒鹹蛋黃 紫心地瓜 芋頭 任選6包超取免運 ,單價:100\n",
      "已售出 4 件  ,商品:*老楊* 鹹蛋黃餅(100g) ,單價:52\n",
      "已售出 0 件  ,商品:*老楊* 黑芝麻餅(100g) ,單價:52\n",
      "已售出 0 件  ,商品:老楊音響 二手美國PSE 911 7吋x2 三單体採用Dyaudio單体 超值美聲落地型喇叭1對 ,單價:36,500\n",
      "已售出 0 件  ,商品:老楊音響 二手SONY DAV-SR4W紅外線無線家庭劇院整組 品項佳 良品附代用遙控器[一元起標) ,單價:12,000\n",
      "已售出 0 件  ,商品:老楊音響 二手日規Panasonic SU-D50数位中型擴大機 品相佳良品 (一元起標) ,單價:2,700\n",
      "已售出 8 件  ,商品:駿弘糖果餅乾~古早味香菜餅~300公克60元~另有嬰兒餅乾.收涎餅(收口水餅)~有賣老楊鹹蛋黃餅! ,單價:60\n",
      "已售出 54 件  ,商品:駿弘糖果餅乾~老楊黑芝麻餅~原廠包裝99元（230公克裝）~另有老楊鹹蛋黃餅! ,單價:99\n",
      "已售出 21 件  ,商品:駿弘糖果餅乾~老楊黑芝麻餅~原廠包裝99元（230公克裝）特價中~另有老楊鹹蛋黃餅! ,單價:99\n",
      "已售出 0 件  ,商品:老楊鹹蛋黃餅~230公克$109(值購價) ,單價:109\n",
      " ,商品:識茶泡茶品茶-茶隱老楊說茶道 楊學軍 2010-9-1 中國紡織出版社 ,商品:古文物長江岸邊說六朝罕見豐臺70-1.1 奇摩金陵老楊著江蘇鳳凰文藝出版社ISBN:97875399893272016年已售出 64 件  ,商品:【小三美日】 老楊~ 鹹蛋黃餅/白芝麻餅/黑芝麻餅(100g) 【D131419】 ,單價:55\n",
      "已售出 0 件  ,商品:老楊音響 二手法國MICROMEGA T-DRIVE 高階CD 轉盤 品相尚佳良品 ,單價:16,500\n",
      "已售出 0 件  ,商品:老楊音響 二手台製9吋單体1對鋁框良品廉售(一元起標) ,單價:1,000\n",
      "已售出 0 件  ,商品:老楊方塊酥鹹蛋黃酥 ,單價:135\n",
      "已售出 25 件  ,商品:【采懋伴手禮】老楊鹹蛋黃綠豆蒜 ,單價:99\n",
      "已售出 12 件  ,商品:【采懋伴手禮】老楊鹹蛋黃黑胡椒 7-11取貨限制7包 ,單價:99\n",
      " ,商品:台灣TK FOOD Salty Yolk Cookies老楊鹹蛋黃餅230g/袋(約23個)~ 蛋素~鹹鴨蛋味長條方塊酥已售出 38 件  ,商品:好吃零食小舖~老楊方塊酥450g (黑糖/麥纖/芝麻鹹酥) 1罐 $85   圓罐裝 \"嘉義名產\" ,單價:85\n",
      " ,商品:老楊拿手家常菜(簽名版) 楊萌 2014-9-1 中國紡織"
     ]
    }
   ],
   "source": [
    "import requests as rq\n",
    "import html5lib\n",
    "from urllib.request import urlopen\n",
    "from bs4 import BeautifulSoup \n",
    "import re\n",
    "\n",
    "YAHOObid={}\n",
    "stringhttp=\"h\"\n",
    "print(\" Yahoo!奇摩拍賣 \")\n",
    "\n",
    "for pp in range(1,5):\n",
    "    url = \"https://tw.search.bid.yahoo.com/search/auction/product;_ylt=ArsR5FEQq6AVVdDpnL3uSOdyFbN8?p=%E8%80%81%E6%A5%8A&qt=product&kw=%E8%80%81%E6%A5%8A&cid=0&clv=0&acu=0&property=auction&sub_property=auction&srch=product&act=srp&pg=\"+str(pp)+\"&poffset=0&aoffset=\"+str((pp-1)*60) \n",
    "    response = rq.get(url) # 用 requests 的 get 方法把網頁抓下來\n",
    "    html_doc = response.text # text 屬性就是 html 檔案\n",
    "    soup = BeautifulSoup(response.text, \"lxml\") # 指定 lxml 作為解析器\n",
    "    \n",
    "    page=\"頁次-\"+str(pp)\n",
    "    print(page)\n",
    "\n",
    "    for div in soup.findAll('div',{\"class\":\"srp-pdimage yui3-u\"}):\n",
    "        for linkA in div.findAll('a', attrs={'href': re.compile(\"^http\")}):\n",
    "            #print(linkA.prettify())\n",
    "            #print (linkA.get('href')) \n",
    "\n",
    "            #childurl=\"https://tw.bid.yahoo.com/item/%E3%80%90%E9%87%87%E6%87%8B%E4%BC%B4%E6%89%8B%E7%A6%AE%E3%80%91%E6%BB%BF-499-%E5%85%8D%E9%81%8B-%E7%8F%BE%E8%B2%A8%E4%BE%9B%E6%87%89-%E8%80%81%E6%A5%8A%E9%B9%B9%E8%9B%8B%E9%BB%83%E9%A4%85-7-100183142797\"\n",
    "            childurl=linkA.get('href')\n",
    "            childresponse = rq.get(childurl) # 用 requests 的 get 方法把網頁抓下來\n",
    "            childhtml_doc = childresponse.text # text 屬性就是 html 檔案\n",
    "            childsoup = BeautifulSoup(childhtml_doc, \"lxml\") # 指定 lxml 作為解析器        \n",
    "\n",
    "            for childdiv in childsoup.find_all(\"div\",{\"class\":\"bd\"}): \n",
    "                for childtitle in childdiv.find_all('span',{\"class\":\"has-sold\"}):\n",
    "                    YAHOObid['info']=childtitle.text+' '\n",
    "                    print(YAHOObid['info'], end='')\n",
    "                for childname in childdiv.find_all('h1',{\"class\":\"title\"}):\n",
    "                    YAHOObid['商品']=' ,商品:'+childname.text\n",
    "                    print(YAHOObid['商品'], end='')\n",
    "                for childprice in childdiv.find_all('li',{\"class\":\"item-info item-sale-price\"}):\n",
    "                    for childprice1 in childprice.find_all('span',{\"class\":\"number\"}):\n",
    "                            YAHOObid['單價']=' ,單價:'+childprice1.text\n",
    "                            print(YAHOObid['單價'])\n",
    "\n",
    "print(\"FINISH\")"
   ]
  },
  {
   "cell_type": "code",
   "execution_count": null,
   "metadata": {
    "collapsed": true
   },
   "outputs": [],
   "source": []
  }
 ],
 "metadata": {
  "kernelspec": {
   "display_name": "Python 3",
   "language": "python",
   "name": "python3"
  },
  "language_info": {
   "codemirror_mode": {
    "name": "ipython",
    "version": 3
   },
   "file_extension": ".py",
   "mimetype": "text/x-python",
   "name": "python",
   "nbconvert_exporter": "python",
   "pygments_lexer": "ipython3",
   "version": "3.6.1"
  }
 },
 "nbformat": 4,
 "nbformat_minor": 2
}
