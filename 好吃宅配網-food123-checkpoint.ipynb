{
 "cells": [
  {
   "cell_type": "code",
   "execution_count": 2,
   "metadata": {},
   "outputs": [
    {
     "name": "stdout",
     "output_type": "stream",
     "text": [
      "好吃宅配網\n",
      "商品:老楊方塊酥罐裝系列  ,單價:特價$84起 原價$120 \n",
      "商品:養生堅果老麵饅頭/包子  ,單價:特價$35起 原價$60 \n",
      "商品:手工Q彈老媽拌麵  ,單價:特價$32起 原價$42 \n",
      "商品:老虎牙子有氧濃縮膠囊  ,單價:特價$14起 原價$20 \n",
      "商品:老虎牙子經典蘇打有氧飲  ,單價:特價$29起 原價$42 \n",
      "商品:美國老饕級鮮嫩骰子牛肉  ,單價:特價$138起 原價$300 \n",
      "商品:老農手摘天然野生桑葚果  ,單價:特價$75起 原價$180 \n",
      "商品:旗山老店枝仔冰城冰棒  ,單價:特價$17起 原價$40 \n",
      "商品:胡老爹和風綜合米菓禮盒  ,單價:特價$25起 原價$45 \n",
      "FINISH\n"
     ]
    }
   ],
   "source": [
    "import requests as rq\n",
    "import html5lib\n",
    "from urllib.request import urlopen\n",
    "from bs4 import BeautifulSoup \n",
    "import re\n",
    "\n",
    "food123={}\n",
    "print(\"好吃宅配網\")\n",
    "\n",
    "url = \"https://www.food123.com.tw/site/search/?q=%E8%80%81%E6%A5%8A&ref=user_input\" \n",
    "response = rq.get(url) # 用 requests 的 get 方法把網頁抓下來\n",
    "html_doc = response.text # text 屬性就是 html 檔案\n",
    "soup = BeautifulSoup(response.text, \"lxml\") # 指定 lxml 作為解析器\n",
    "\n",
    "for div in soup.findAll('section',{\"class\":\"deals\"}):\n",
    "    for a in div.findAll('a'):\n",
    "        for h3 in a.findAll('h3',{\"class\":\"deal-name\"}):\n",
    "            food123['商品']='商品:'+h3.text+' '\n",
    "            print(food123['商品'], end='')\n",
    "        for divprice in a.findAll('div',{\"class\":\"price\"}):\n",
    "            food123['單價']=' ,單價:'+divprice.text.replace(\" \",\"\").replace(\"\\n\",\"\")+' '\n",
    "            print(food123['單價'])\n",
    "    \n",
    "    \n",
    "print(\"FINISH\")"
   ]
  },
  {
   "cell_type": "code",
   "execution_count": null,
   "metadata": {
    "collapsed": true
   },
   "outputs": [],
   "source": []
  }
 ],
 "metadata": {
  "kernelspec": {
   "display_name": "Python 3",
   "language": "python",
   "name": "python3"
  },
  "language_info": {
   "codemirror_mode": {
    "name": "ipython",
    "version": 3
   },
   "file_extension": ".py",
   "mimetype": "text/x-python",
   "name": "python",
   "nbconvert_exporter": "python",
   "pygments_lexer": "ipython3",
   "version": "3.6.1"
  }
 },
 "nbformat": 4,
 "nbformat_minor": 2
}
