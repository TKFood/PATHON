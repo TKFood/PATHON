{
 "cells": [
  {
   "cell_type": "code",
   "execution_count": 9,
   "metadata": {},
   "outputs": [
    {
     "name": "stdout",
     "output_type": "stream",
     "text": [
      "大潤發網路購物\n",
      "商品: 【老楊】老楊三合一方塊酥 540g/桶 ,單價:$115 \n",
      "商品: 【老楊】老楊黑糖方塊酥 450g/罐 ,單價:$69 \n",
      "商品: 【老楊】老楊麥纖方塊酥 450g/罐 ,單價:$69 \n",
      "商品: 【老楊】老楊芝麻鹹酥方塊酥罐 ,單價:$66 \n",
      "商品: 老楊綠豆蒜鹹蛋黃餅100公克 ,單價:$48 \n",
      "商品: 老楊黑胡椒鹹蛋黃餅100公克 ,單價:$48 \n",
      "商品: 老楊黑芝麻餅100G ,單價:$48 \n",
      "商品: 老楊原味麥纖方塊酥桶  540g/桶 ,單價:$98 \n",
      "商品: 老楊鹹蛋黃餅100G ,單價:$48 \n",
      "FINISH\n"
     ]
    }
   ],
   "source": [
    "import requests as rq\n",
    "import html5lib\n",
    "from urllib.request import urlopen\n",
    "from bs4 import BeautifulSoup \n",
    "import re\n",
    "\n",
    "rtmart={}\n",
    "print(\"大潤發網路購物\")\n",
    "\n",
    "url = \"http://www.rt-mart.com.tw/direct/index.php?action=product_search&prod_keyword=%E8%80%81%E6%A5%8A&prod_size=&usort=&-x.sort_no,DESC&p_data_num=\" \n",
    "response = rq.get(url) # 用 requests 的 get 方法把網頁抓下來\n",
    "html_doc = response.text # text 屬性就是 html 檔案\n",
    "soup = BeautifulSoup(response.text, \"lxml\") # 指定 lxml 作為解析器\n",
    "\n",
    "for div in soup.findAll('div',{\"class\":\"indexProList\"}):\n",
    "    for h5 in div.findAll('h5',{\"class\":\"for_proname\"}):\n",
    "        for name in h5.findAll('a'):\n",
    "                rtmart['商品']='商品:'+name.text+' '\n",
    "                print(rtmart['商品'], end='')\n",
    "    for pricebox in div.findAll('div',{\"class\":\"for_pricebox\"}):\n",
    "        for price in pricebox.findAll('div'):\n",
    "                rtmart['單價']=',單價:'+price.text+' '\n",
    "                print(rtmart['單價'])\n",
    "            \n",
    "print(\"FINISH\")"
   ]
  },
  {
   "cell_type": "code",
   "execution_count": null,
   "metadata": {
    "collapsed": true
   },
   "outputs": [],
   "source": []
  }
 ],
 "metadata": {
  "kernelspec": {
   "display_name": "Python 3",
   "language": "python",
   "name": "python3"
  },
  "language_info": {
   "codemirror_mode": {
    "name": "ipython",
    "version": 3
   },
   "file_extension": ".py",
   "mimetype": "text/x-python",
   "name": "python",
   "nbconvert_exporter": "python",
   "pygments_lexer": "ipython3",
   "version": "3.6.1"
  }
 },
 "nbformat": 4,
 "nbformat_minor": 2
}
