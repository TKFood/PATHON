{
 "cells": [
  {
   "cell_type": "code",
   "execution_count": 1,
   "metadata": {},
   "outputs": [
    {
     "name": "stdout",
     "output_type": "stream",
     "text": [
      " 大買家量販網路店\n",
      "商品:《老楊》鹹蛋黃餅(100g)  ,單價:48 \n",
      "商品:《老楊》黑芝麻餅(100g)  ,單價:51 \n",
      "商品:《老楊》三合一方塊酥(540g/桶)  ,單價:99 \n",
      "商品:《老楊》麥纖方塊酥(450g/罐)  ,單價:63 \n",
      "商品:《老楊》黑糖方塊酥(450g/罐)  ,單價:63 \n",
      "商品:《老楊》芝麻鹹酥方塊酥(450公克/罐)  ,單價:68 \n",
      "商品:《老楊》原味麥纖方塊酥桶(540g/桶)  ,單價:99 \n",
      "商品:《老楊》黑胡椒鹹蛋黃餅(100公克)  ,單價:51 \n",
      "商品:《老楊》綠豆蒜鹹蛋黃餅(100公克)  ,單價:51 \n",
      "商品:正老山香1.6尺(D119)  ,單價:161 \n",
      "商品:《老中醫》黑糖(300g/瓶)  ,單價:55 \n",
      "商品:《老干媽》油辣椒(210g/瓶)  ,單價:65 \n",
      "商品:《老中醫》天然仙楂(170g+_5%/包)  ,單價:35 \n",
      "商品:《老干媽》風味豆鼓油制辣椒(210g/瓶)  ,單價:65 \n",
      "商品:《老干媽》香辣脆油辣椒(210g/瓶)  ,單價:65 \n",
      "商品:《呈震》老山檀小盤香(48片/罐)  ,單價:149 \n",
      "FINISH\n"
     ]
    }
   ],
   "source": [
    "import requests as rq\n",
    "import html5lib\n",
    "from urllib.request import urlopen\n",
    "from bs4 import BeautifulSoup \n",
    "import re\n",
    "\n",
    "savesafe={}\n",
    "print(\"大買家量販網路店\")\n",
    "\n",
    "url = \"http://www.savesafe.com.tw/Products/SearchList.aspx?k=%E8%80%81%E6%A5%8A&ssid=39133\" \n",
    "response = rq.get(url) # 用 requests 的 get 方法把網頁抓下來\n",
    "html_doc = response.text # text 屬性就是 html 檔案\n",
    "soup = BeautifulSoup(response.text, \"lxml\") # 指定 lxml 作為解析器\n",
    "\n",
    "for div in soup.findAll('div',{\"class\":\"SSet_txt\"}):\n",
    "    for divname in div.findAll('div',{\"class\":\"SSet_name\"}):\n",
    "        savesafe['商品']='商品:'+divname.text+' '\n",
    "        print(savesafe['商品'], end='')\n",
    "    for span in div.findAll('span',{\"class\":\"SSet_price\"}):\n",
    "        savesafe['單價']=' ,單價:'+span.text+' '\n",
    "        print(savesafe['單價'])\n",
    "    \n",
    "    \n",
    "print(\"FINISH\")"
   ]
  },
  {
   "cell_type": "code",
   "execution_count": null,
   "metadata": {
    "collapsed": true
   },
   "outputs": [],
   "source": []
  }
 ],
 "metadata": {
  "kernelspec": {
   "display_name": "Python 3",
   "language": "python",
   "name": "python3"
  },
  "language_info": {
   "codemirror_mode": {
    "name": "ipython",
    "version": 3
   },
   "file_extension": ".py",
   "mimetype": "text/x-python",
   "name": "python",
   "nbconvert_exporter": "python",
   "pygments_lexer": "ipython3",
   "version": "3.6.1"
  }
 },
 "nbformat": 4,
 "nbformat_minor": 2
}
